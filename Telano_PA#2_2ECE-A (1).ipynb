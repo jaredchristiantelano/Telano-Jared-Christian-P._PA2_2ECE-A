{
 "cells": [
  {
   "cell_type": "code",
   "execution_count": 3,
   "id": "c5fcac78-39ad-4a85-8c83-4118e75ba793",
   "metadata": {},
   "outputs": [
    {
     "name": "stdout",
     "output_type": "stream",
     "text": [
      "[[-0.94877624  1.37849769 -1.1929761  -2.24600106  0.79851006]\n",
      " [-1.03390308  0.6597996   0.08974712  1.43624399  1.36898711]\n",
      " [ 0.56514916 -0.2190846  -0.19540352  1.54987897  0.79384071]\n",
      " [ 0.78806155 -0.85866236 -0.73990502  0.88011281 -1.32853001]\n",
      " [-0.93428443 -0.42399008 -0.49554684  0.61017021 -0.30193564]]\n"
     ]
    }
   ],
   "source": [
    "# Normalization Problem\n",
    "import numpy as np                      # Imports NumPy library \n",
    "\n",
    "X = np.random.random((5, 5))            # Creates a 5x5 array with random floating point values \n",
    "\n",
    "mean = np.mean(X)                       # Calculates the average of the elements in the created array\n",
    "std = np.std(X)                         # Calcuates the standard deviation of the array \n",
    "\n",
    "X = (X - mean) / std                    # Normalizes X \n",
    "print(X)                                # Prints X \n",
    "np.save('X_normalized.npy', X)          # Saves the NumPy array "
   ]
  },
  {
   "cell_type": "code",
   "execution_count": 4,
   "id": "c605a1a8-c5dc-4eb0-b406-5ed6cc022393",
   "metadata": {},
   "outputs": [
    {
     "data": {
      "text/plain": [
       "array([[-0.94877624,  1.37849769, -1.1929761 , -2.24600106,  0.79851006],\n",
       "       [-1.03390308,  0.6597996 ,  0.08974712,  1.43624399,  1.36898711],\n",
       "       [ 0.56514916, -0.2190846 , -0.19540352,  1.54987897,  0.79384071],\n",
       "       [ 0.78806155, -0.85866236, -0.73990502,  0.88011281, -1.32853001],\n",
       "       [-0.93428443, -0.42399008, -0.49554684,  0.61017021, -0.30193564]])"
      ]
     },
     "execution_count": 4,
     "metadata": {},
     "output_type": "execute_result"
    }
   ],
   "source": [
    "array = np.load('X_normalized.npy')     # Loads array from the file attached\n",
    "array                                   # Displays the array"
   ]
  },
  {
   "cell_type": "code",
   "execution_count": 4,
   "id": "fde37cec-8993-4f45-9886-06f4a61e9f9c",
   "metadata": {},
   "outputs": [
    {
     "name": "stdout",
     "output_type": "stream",
     "text": [
      "Square of first 100 positive integers: \n",
      "[[    1     4     9    16    25    36    49    64    81   100]\n",
      " [  121   144   169   196   225   256   289   324   361   400]\n",
      " [  441   484   529   576   625   676   729   784   841   900]\n",
      " [  961  1024  1089  1156  1225  1296  1369  1444  1521  1600]\n",
      " [ 1681  1764  1849  1936  2025  2116  2209  2304  2401  2500]\n",
      " [ 2601  2704  2809  2916  3025  3136  3249  3364  3481  3600]\n",
      " [ 3721  3844  3969  4096  4225  4356  4489  4624  4761  4900]\n",
      " [ 5041  5184  5329  5476  5625  5776  5929  6084  6241  6400]\n",
      " [ 6561  6724  6889  7056  7225  7396  7569  7744  7921  8100]\n",
      " [ 8281  8464  8649  8836  9025  9216  9409  9604  9801 10000]]\n",
      "Elements divisible by 3: \n",
      "[[   0    0    9    0    0   36    0    0   81    0]\n",
      " [   0  144    0    0  225    0    0  324    0    0]\n",
      " [ 441    0    0  576    0    0  729    0    0  900]\n",
      " [   0    0 1089    0    0 1296    0    0 1521    0]\n",
      " [   0 1764    0    0 2025    0    0 2304    0    0]\n",
      " [2601    0    0 2916    0    0 3249    0    0 3600]\n",
      " [   0    0 3969    0    0 4356    0    0 4761    0]\n",
      " [   0 5184    0    0 5625    0    0 6084    0    0]\n",
      " [6561    0    0 7056    0    0 7569    0    0 8100]\n",
      " [   0    0 8649    0    0 9216    0    0 9801    0]]\n"
     ]
    }
   ],
   "source": [
    "# Divisible by 3 Problem\n",
    "\n",
    "import numpy as np                               # Imports NumPy library \n",
    "\n",
    "C = np.arange(1, 101)                            # Create a 1D array with numbers from 1 to 100\n",
    "B = C.reshape(10, 10)                            # Reshape the 1D array into a 10x10 2D array\n",
    "A = B**2                                         # Squares every element in the array \n",
    "\n",
    "def find_divisible_by_3(A):                      # The elements are first checked whether they are divisible by 3. The array \n",
    "  return A * (A % 3 == 0)                        # is multiplied again. If True, elements are reatained that are divisible by 3, while elements \n",
    "                                                 # that are not divisible by 3 are replaced with 0\n",
    "    \n",
    "D = find_divisible_by_3(A)                       # Calls the function \n",
    "print(\"Square of first 100 positive integers: \")\n",
    "print(A)\n",
    "print(\"Elements divisible by 3: \")               # Dsiplays the array with elements that are divisible by 3\n",
    "print(D)                                \n",
    "np.save('div_by_3.npy', D)                       # Saves the NumPy array\n"
   ]
  },
  {
   "cell_type": "code",
   "execution_count": 5,
   "id": "4a2bb76f-9a5f-4591-9cf5-c7c1d0ef6e79",
   "metadata": {},
   "outputs": [
    {
     "data": {
      "text/plain": [
       "array([[   0,    0,    9,    0,    0,   36,    0,    0,   81,    0],\n",
       "       [   0,  144,    0,    0,  225,    0,    0,  324,    0,    0],\n",
       "       [ 441,    0,    0,  576,    0,    0,  729,    0,    0,  900],\n",
       "       [   0,    0, 1089,    0,    0, 1296,    0,    0, 1521,    0],\n",
       "       [   0, 1764,    0,    0, 2025,    0,    0, 2304,    0,    0],\n",
       "       [2601,    0,    0, 2916,    0,    0, 3249,    0,    0, 3600],\n",
       "       [   0,    0, 3969,    0,    0, 4356,    0,    0, 4761,    0],\n",
       "       [   0, 5184,    0,    0, 5625,    0,    0, 6084,    0,    0],\n",
       "       [6561,    0,    0, 7056,    0,    0, 7569,    0,    0, 8100],\n",
       "       [   0,    0, 8649,    0,    0, 9216,    0,    0, 9801,    0]])"
      ]
     },
     "execution_count": 5,
     "metadata": {},
     "output_type": "execute_result"
    }
   ],
   "source": [
    "array = np.load('div_by_3.npy')         # Loads array from the file attached\n",
    "array                                   # Displays the array "
   ]
  },
  {
   "cell_type": "code",
   "execution_count": null,
   "id": "e9ee3b8e-0ae7-48ef-85ef-4996d270bedb",
   "metadata": {},
   "outputs": [],
   "source": []
  }
 ],
 "metadata": {
  "kernelspec": {
   "display_name": "Python [conda env:base] *",
   "language": "python",
   "name": "conda-base-py"
  },
  "language_info": {
   "codemirror_mode": {
    "name": "ipython",
    "version": 3
   },
   "file_extension": ".py",
   "mimetype": "text/x-python",
   "name": "python",
   "nbconvert_exporter": "python",
   "pygments_lexer": "ipython3",
   "version": "3.13.5"
  }
 },
 "nbformat": 4,
 "nbformat_minor": 5
}
