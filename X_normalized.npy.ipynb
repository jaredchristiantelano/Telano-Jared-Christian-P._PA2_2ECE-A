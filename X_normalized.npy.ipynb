{
 "cells": [
  {
   "cell_type": "code",
   "execution_count": 2,
   "id": "2b74a07a-e086-4f9c-8a6e-4abe8003e467",
   "metadata": {},
   "outputs": [
    {
     "name": "stdout",
     "output_type": "stream",
     "text": [
      "[[-1.16164838 -1.9493291   0.15382725 -0.27037218  0.52124559]\n",
      " [-0.03091756 -0.88490522 -0.57976451  0.95624149 -1.48890419]\n",
      " [ 0.69629906  0.35381817 -0.16081637 -0.02353616 -1.64592207]\n",
      " [-0.40789905  0.51421424  1.27585275  1.19240384 -0.81840487]\n",
      " [ 1.27568931 -1.13122459  0.71871671  1.6926754   1.20266043]]\n"
     ]
    }
   ],
   "source": [
    "# Normalization Problem \n",
    "\n",
    "import numpy as np                      # Imports NumPy library \n",
    "\n",
    "X = np.random.random((5, 5))            # Creates a 5x5 array with random floating point values \n",
    "\n",
    "mean = np.mean(X)                       # Calculates the average of the elements in the created array\n",
    "std = np.std(X)                         # Calcuates the standard deviation of the array \n",
    "\n",
    "X = (X - mean) / std                    # Normalizes X \n",
    "print(X)                                # Prints X \n",
    "np.save('X_normalized.npy', X)"
   ]
  },
  {
   "cell_type": "code",
   "execution_count": 3,
   "id": "5c429030-6342-48b1-a876-761dd2db2eda",
   "metadata": {},
   "outputs": [
    {
     "data": {
      "text/plain": [
       "array([[-1.16164838, -1.9493291 ,  0.15382725, -0.27037218,  0.52124559],\n",
       "       [-0.03091756, -0.88490522, -0.57976451,  0.95624149, -1.48890419],\n",
       "       [ 0.69629906,  0.35381817, -0.16081637, -0.02353616, -1.64592207],\n",
       "       [-0.40789905,  0.51421424,  1.27585275,  1.19240384, -0.81840487],\n",
       "       [ 1.27568931, -1.13122459,  0.71871671,  1.6926754 ,  1.20266043]])"
      ]
     },
     "execution_count": 3,
     "metadata": {},
     "output_type": "execute_result"
    }
   ],
   "source": [
    "array = np.load('X_normalized.npy')\n",
    "array"
   ]
  },
  {
   "cell_type": "code",
   "execution_count": null,
   "id": "51cbbcaa-2da7-4227-9278-72c7d4516bb0",
   "metadata": {},
   "outputs": [],
   "source": []
  }
 ],
 "metadata": {
  "kernelspec": {
   "display_name": "Python [conda env:base] *",
   "language": "python",
   "name": "conda-base-py"
  },
  "language_info": {
   "codemirror_mode": {
    "name": "ipython",
    "version": 3
   },
   "file_extension": ".py",
   "mimetype": "text/x-python",
   "name": "python",
   "nbconvert_exporter": "python",
   "pygments_lexer": "ipython3",
   "version": "3.13.5"
  }
 },
 "nbformat": 4,
 "nbformat_minor": 5
}
