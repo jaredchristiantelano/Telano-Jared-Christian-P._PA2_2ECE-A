{
 "cells": [
  {
   "cell_type": "code",
   "execution_count": 3,
   "id": "c5fcac78-39ad-4a85-8c83-4118e75ba793",
   "metadata": {},
   "outputs": [
    {
     "name": "stdout",
     "output_type": "stream",
     "text": [
      "[[-0.94877624  1.37849769 -1.1929761  -2.24600106  0.79851006]\n",
      " [-1.03390308  0.6597996   0.08974712  1.43624399  1.36898711]\n",
      " [ 0.56514916 -0.2190846  -0.19540352  1.54987897  0.79384071]\n",
      " [ 0.78806155 -0.85866236 -0.73990502  0.88011281 -1.32853001]\n",
      " [-0.93428443 -0.42399008 -0.49554684  0.61017021 -0.30193564]]\n"
     ]
    }
   ],
   "source": [
    "# Normalization Problem\n",
    "import numpy as np                      # Imports NumPy library \n",
    "\n",
    "X = np.random.random((5, 5))            # Creates a 5x5 array with random floating point values \n",
    "\n",
    "mean = np.mean(X)                       # Calculates the average of the elements in the created array\n",
    "std = np.std(X)                         # Calcuates the standard deviation of the array \n",
    "\n",
    "X = (X - mean) / std                    # Normalizes X \n",
    "print(X)                                # Prints X \n",
    "np.save('X_normalized.npy', X)          # Saves the NumPy array "
   ]
  },
  {
   "cell_type": "code",
   "execution_count": 4,
   "id": "c605a1a8-c5dc-4eb0-b406-5ed6cc022393",
   "metadata": {},
   "outputs": [
    {
     "data": {
      "text/plain": [
       "array([[-0.94877624,  1.37849769, -1.1929761 , -2.24600106,  0.79851006],\n",
       "       [-1.03390308,  0.6597996 ,  0.08974712,  1.43624399,  1.36898711],\n",
       "       [ 0.56514916, -0.2190846 , -0.19540352,  1.54987897,  0.79384071],\n",
       "       [ 0.78806155, -0.85866236, -0.73990502,  0.88011281, -1.32853001],\n",
       "       [-0.93428443, -0.42399008, -0.49554684,  0.61017021, -0.30193564]])"
      ]
     },
     "execution_count": 4,
     "metadata": {},
     "output_type": "execute_result"
    }
   ],
   "source": [
    "array = np.load('X_normalized.npy')     # Loads array from the file attached\n",
    "array                                   # Displays the array"
   ]
  },
  {
   "cell_type": "code",
   "execution_count": 6,
   "id": "832363df-1981-4e4d-bba0-23b6b7a8f8d2",
   "metadata": {},
   "outputs": [
    {
     "name": "stdout",
     "output_type": "stream",
     "text": [
      "Elements divisible by 3: \n",
      "[[   0    0    9    0    0   36    0    0   81    0]\n",
      " [   0  144    0    0  225    0    0  324    0    0]\n",
      " [ 441    0    0  576    0    0  729    0    0  900]\n",
      " [   0    0 1089    0    0 1296    0    0 1521    0]\n",
      " [   0 1764    0    0 2025    0    0 2304    0    0]\n",
      " [2601    0    0 2916    0    0 3249    0    0 3600]\n",
      " [   0    0 3969    0    0 4356    0    0 4761    0]\n",
      " [   0 5184    0    0 5625    0    0 6084    0    0]\n",
      " [6561    0    0 7056    0    0 7569    0    0 8100]\n",
      " [   0    0 8649    0    0 9216    0    0 9801    0]]\n"
     ]
    }
   ],
   "source": [
    "# Divisible By 3 Problem \n",
    "\n",
    "import numpy as np                      # Imports NumPy library \n",
    "\n",
    "C = np.arange(1, 101)                   # Create a 1D array with numbers from 1 to 100\n",
    "B = C.reshape(10, 10)                   # Reshape the 1D array into a 10x10 2D array\n",
    "A = B**2                                # Squares every element in the array \n",
    "\n",
    "def find_divisible_by_3(A):             \n",
    "  mask = (A % 3 == 0)                   # Create a boolean mask where True specifies elements that are divisible by 3\n",
    "  D = A[mask]                           # Retrieves all elements divisible by 3\n",
    "  result = np.zeros_like(A)             # Initializes the elements in the array with zeroes \n",
    "  result[mask] = A[mask]                # Retains the numbers divisible by 3 in the array and replace that don't with zeroes\n",
    "  return result\n",
    "\n",
    "D = find_divisible_by_3(A)              # Calls the function \n",
    "print(\"Elements divisible by 3: \")      # Dsiplays the array with elements that are divisible by 3\n",
    "print(D)                                \n",
    "np.save('div_by_3.npy', D)              # Saves the NumPy array\n"
   ]
  },
  {
   "cell_type": "code",
   "execution_count": 5,
   "id": "44381e79-bb11-42b2-964a-e7e1bc204480",
   "metadata": {},
   "outputs": [
    {
     "data": {
      "text/plain": [
       "array([[   0,    0,    9,    0,    0,   36,    0,    0,   81,    0],\n",
       "       [   0,  144,    0,    0,  225,    0,    0,  324,    0,    0],\n",
       "       [ 441,    0,    0,  576,    0,    0,  729,    0,    0,  900],\n",
       "       [   0,    0, 1089,    0,    0, 1296,    0,    0, 1521,    0],\n",
       "       [   0, 1764,    0,    0, 2025,    0,    0, 2304,    0,    0],\n",
       "       [2601,    0,    0, 2916,    0,    0, 3249,    0,    0, 3600],\n",
       "       [   0,    0, 3969,    0,    0, 4356,    0,    0, 4761,    0],\n",
       "       [   0, 5184,    0,    0, 5625,    0,    0, 6084,    0,    0],\n",
       "       [6561,    0,    0, 7056,    0,    0, 7569,    0,    0, 8100],\n",
       "       [   0,    0, 8649,    0,    0, 9216,    0,    0, 9801,    0]])"
      ]
     },
     "execution_count": 5,
     "metadata": {},
     "output_type": "execute_result"
    }
   ],
   "source": [
    "array = np.load('div_by_3.npy')         # Loads array from the file attached\n",
    "array                                   # Displays the array "
   ]
  },
  {
   "cell_type": "code",
   "execution_count": null,
   "id": "fde37cec-8993-4f45-9886-06f4a61e9f9c",
   "metadata": {},
   "outputs": [],
   "source": []
  }
 ],
 "metadata": {
  "kernelspec": {
   "display_name": "Python [conda env:base] *",
   "language": "python",
   "name": "conda-base-py"
  },
  "language_info": {
   "codemirror_mode": {
    "name": "ipython",
    "version": 3
   },
   "file_extension": ".py",
   "mimetype": "text/x-python",
   "name": "python",
   "nbconvert_exporter": "python",
   "pygments_lexer": "ipython3",
   "version": "3.13.5"
  }
 },
 "nbformat": 4,
 "nbformat_minor": 5
}
